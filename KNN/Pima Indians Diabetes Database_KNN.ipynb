{
 "cells": [
  {
   "cell_type": "markdown",
   "id": "ff53b3ca",
   "metadata": {},
   "source": [
    "# KNN for pima india diabetes dataset"
   ]
  },
  {
   "cell_type": "code",
   "execution_count": 6,
   "id": "70a3b551",
   "metadata": {},
   "outputs": [
    {
     "name": "stdout",
     "output_type": "stream",
     "text": [
      "     Euclidean Distance  Manhattan Distance  Minkowski Distance (p=3)  \\\n",
      "60           205.924782             355.126                192.585246   \n",
      "618          192.471728             253.652                190.164795   \n",
      "346          118.169963             205.524                109.361895   \n",
      "294          204.666658             334.276                192.722857   \n",
      "231          185.347989             257.392                180.607115   \n",
      "\n",
      "     Outcome  Accuracy  \n",
      "60         0  0.701299  \n",
      "618        1  0.701299  \n",
      "346        0  0.701299  \n",
      "294        0  0.701299  \n",
      "231        1  0.701299  \n"
     ]
    },
    {
     "name": "stderr",
     "output_type": "stream",
     "text": [
      "C:\\ProgramData\\Anaconda3\\lib\\site-packages\\sklearn\\neighbors\\_classification.py:228: FutureWarning: Unlike other reduction functions (e.g. `skew`, `kurtosis`), the default behavior of `mode` typically preserves the axis it acts along. In SciPy 1.11.0, this behavior will change: the default value of `keepdims` will become False, the `axis` over which the statistic is taken will be eliminated, and the value None will no longer be accepted. Set `keepdims` to True or False to avoid this warning.\n",
      "  mode, _ = stats.mode(_y[neigh_ind, k], axis=1)\n"
     ]
    }
   ],
   "source": [
    "import pandas as pd\n",
    "import numpy as np\n",
    "from sklearn.neighbors import KNeighborsClassifier\n",
    "from sklearn.model_selection import train_test_split\n",
    "from sklearn.metrics import accuracy_score\n",
    "\n",
    "# load the dataset\n",
    "diabetes_df = pd.read_csv('diabetes.csv')\n",
    "\n",
    "# separate the features and target variables\n",
    "X = diabetes_df.drop('Outcome', axis=1)\n",
    "y = diabetes_df['Outcome']\n",
    "\n",
    "# split the dataset into train and test sets\n",
    "X_train, X_test, y_train, y_test = train_test_split(X, y, test_size=0.2, random_state=42)\n",
    "\n",
    "# create a KNN classifier with k=5 and Minkowski distance with p=3\n",
    "knn = KNeighborsClassifier(n_neighbors=5, p=3)\n",
    "\n",
    "# fit the classifier on the training data\n",
    "knn.fit(X_train, y_train)\n",
    "\n",
    "# predict the class labels for the test data\n",
    "y_pred = knn.predict(X_test)\n",
    "\n",
    "# compute the Euclidean distance between two columns\n",
    "euclidean_distances = np.sqrt(np.sum(np.square(X_train - X_test.iloc[0]), axis=1))\n",
    "\n",
    "# compute the Manhattan distance between two columns\n",
    "manhattan_distances = np.sum(np.abs(X_train - X_test.iloc[0]), axis=1)\n",
    "\n",
    "# compute the Minkowski distance with p=3 between two columns\n",
    "minkowski_distances = np.power(np.sum(np.power(np.abs(X_train - X_test.iloc[0]), 3), axis=1), 1/3)\n",
    "\n",
    "# compute the accuracy of the KNN classifier\n",
    "accuracy = accuracy_score(y_test, y_pred)\n",
    "\n",
    "# put the distances and accuracy into a dataframe\n",
    "dist_df = pd.DataFrame({'Euclidean Distance': euclidean_distances, 'Manhattan Distance': manhattan_distances, 'Minkowski Distance (p=3)': minkowski_distances, 'Outcome': y_train, 'Accuracy': accuracy})\n",
    "\n",
    "# show the results\n",
    "print(dist_df.head())\n"
   ]
  },
  {
   "cell_type": "code",
   "execution_count": null,
   "id": "8a4531fe",
   "metadata": {},
   "outputs": [],
   "source": []
  }
 ],
 "metadata": {
  "kernelspec": {
   "display_name": "Python 3 (ipykernel)",
   "language": "python",
   "name": "python3"
  },
  "language_info": {
   "codemirror_mode": {
    "name": "ipython",
    "version": 3
   },
   "file_extension": ".py",
   "mimetype": "text/x-python",
   "name": "python",
   "nbconvert_exporter": "python",
   "pygments_lexer": "ipython3",
   "version": "3.9.13"
  }
 },
 "nbformat": 4,
 "nbformat_minor": 5
}
