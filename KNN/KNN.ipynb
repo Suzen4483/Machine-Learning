{
 "cells": [
  {
   "cell_type": "code",
   "execution_count": 6,
   "id": "3e5e4151",
   "metadata": {},
   "outputs": [],
   "source": [
    "from sklearn.datasets import load_iris\n",
    "from sklearn.preprocessing import StandardScaler\n",
    "from sklearn.neighbors import KNeighborsClassifier\n",
    "from scipy.spatial import distance\n",
    "\n",
    "# Load the Iris dataset\n",
    "iris = load_iris()\n"
   ]
  },
  {
   "cell_type": "code",
   "execution_count": 8,
   "id": "9434b13d",
   "metadata": {},
   "outputs": [],
   "source": [
    "# Get only the sepal length and sepal width features\n",
    "X = iris.data[:, :2]\n",
    "y = iris.target"
   ]
  },
  {
   "cell_type": "code",
   "execution_count": 10,
   "id": "f20dd3fa",
   "metadata": {},
   "outputs": [],
   "source": [
    "# Preprocess the features using StandardScaler\n",
    "scaler = StandardScaler()\n",
    "X = scaler.fit_transform(X)"
   ]
  },
  {
   "cell_type": "code",
   "execution_count": 11,
   "id": "370be879",
   "metadata": {},
   "outputs": [],
   "source": [
    "# Define the data point to classify\n",
    "data_point = [[5.2, 3.1]]"
   ]
  },
  {
   "cell_type": "code",
   "execution_count": 12,
   "id": "7898231a",
   "metadata": {},
   "outputs": [],
   "source": [
    "# Preprocess the data point\n",
    "data_point = scaler.transform(data_point)"
   ]
  },
  {
   "cell_type": "code",
   "execution_count": 13,
   "id": "d140a6a7",
   "metadata": {},
   "outputs": [],
   "source": [
    "# Calculate Euclidean distances between the data point and all training samples\n",
    "distances = distance.cdist(data_point, X, 'euclidean')"
   ]
  },
  {
   "cell_type": "code",
   "execution_count": 14,
   "id": "e46389df",
   "metadata": {},
   "outputs": [],
   "source": [
    "# Get the indices of the nearest neighbors (k=3 and k=5)\n",
    "k_nearest_indices_k3 = distances.argsort()[:, :3]\n",
    "k_nearest_indices_k5 = distances.argsort()[:, :5]"
   ]
  },
  {
   "cell_type": "code",
   "execution_count": 15,
   "id": "089a6149",
   "metadata": {},
   "outputs": [],
   "source": [
    "# Get the corresponding target labels for the nearest neighbors\n",
    "k_nearest_labels_k3 = y[k_nearest_indices_k3]\n",
    "k_nearest_labels_k5 = y[k_nearest_indices_k5]"
   ]
  },
  {
   "cell_type": "code",
   "execution_count": 16,
   "id": "899a5cb0",
   "metadata": {},
   "outputs": [],
   "source": [
    "# Count the occurrences of each class in the nearest neighbors\n",
    "class_count_k3 = [sum(k_nearest_labels_k3.ravel() == i) for i in range(3)]\n",
    "class_count_k5 = [sum(k_nearest_labels_k5.ravel() == i) for i in range(3)]"
   ]
  },
  {
   "cell_type": "code",
   "execution_count": 17,
   "id": "79a2933c",
   "metadata": {},
   "outputs": [],
   "source": [
    "# Find the class with the highest count (mode) for k=3 and k=5\n",
    "predicted_class_k3 = class_count_k3.index(max(class_count_k3))\n",
    "predicted_class_k5 = class_count_k5.index(max(class_count_k5))"
   ]
  },
  {
   "cell_type": "code",
   "execution_count": 18,
   "id": "2432bd6e",
   "metadata": {},
   "outputs": [],
   "source": [
    "# Map the numerical labels back to their corresponding species names\n",
    "species_mapping = {0: 'setosa', 1: 'versicolor', 2: 'virginica'}\n",
    "predicted_species_k3 = species_mapping[predicted_class_k3]\n",
    "predicted_species_k5 = species_mapping[predicted_class_k5]"
   ]
  },
  {
   "cell_type": "code",
   "execution_count": 19,
   "id": "ddfb43ef",
   "metadata": {},
   "outputs": [
    {
     "name": "stdout",
     "output_type": "stream",
     "text": [
      "Predicted Species (k=3): virginica\n",
      "Predicted Species (k=5): virginica\n"
     ]
    }
   ],
   "source": [
    "# Print the predicted species for k=3 and k=5 using Euclidean distance\n",
    "print(\"Predicted Species (k=3):\", predicted_species_k3)\n",
    "print(\"Predicted Species (k=5):\", predicted_species_k5)"
   ]
  },
  {
   "cell_type": "code",
   "execution_count": null,
   "id": "613daa5d",
   "metadata": {},
   "outputs": [],
   "source": []
  }
 ],
 "metadata": {
  "kernelspec": {
   "display_name": "Python 3 (ipykernel)",
   "language": "python",
   "name": "python3"
  },
  "language_info": {
   "codemirror_mode": {
    "name": "ipython",
    "version": 3
   },
   "file_extension": ".py",
   "mimetype": "text/x-python",
   "name": "python",
   "nbconvert_exporter": "python",
   "pygments_lexer": "ipython3",
   "version": "3.9.13"
  }
 },
 "nbformat": 4,
 "nbformat_minor": 5
}
